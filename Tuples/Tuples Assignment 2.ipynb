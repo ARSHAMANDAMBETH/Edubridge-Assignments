{
 "cells": [
  {
   "cell_type": "markdown",
   "id": "33191592",
   "metadata": {},
   "source": [
    "## Program to find the repeated items of a tuple"
   ]
  },
  {
   "cell_type": "code",
   "execution_count": 2,
   "id": "377df5c9",
   "metadata": {},
   "outputs": [
    {
     "name": "stdout",
     "output_type": "stream",
     "text": [
      "Enter tuple items: 1 8 6 8 6 5 9 3 1 8\n",
      "('1', '8', '6', '8', '6', '5', '9', '3', '1', '8')\n",
      "Repeated elements are: \n",
      "('1', '8', '6')\n"
     ]
    }
   ],
   "source": [
    "a=tuple(input('Enter tuple items: ').split())\n",
    "print(a)\n",
    "\n",
    "def tup(n):\n",
    "    m=[]\n",
    "    print('Repeated elements are: ')\n",
    "    for i in n:\n",
    "        if n.count(i)>1:\n",
    "            m.append(i)\n",
    "    b=set(m)\n",
    "    print(tuple(b))\n",
    "tup(a) "
   ]
  },
  {
   "cell_type": "markdown",
   "id": "47df8770",
   "metadata": {},
   "source": [
    "## Program to check whether an element exists within a tuple"
   ]
  },
  {
   "cell_type": "code",
   "execution_count": 3,
   "id": "1f3a2108",
   "metadata": {},
   "outputs": [
    {
     "name": "stdout",
     "output_type": "stream",
     "text": [
      "Enter items of tuple: 14 25 36 85 74 96 85 12\n",
      "('14', '25', '36', '85', '74', '96', '85', '12')\n",
      "Enter element you want to check: 85\n",
      "85 Exist in tuple\n"
     ]
    }
   ],
   "source": [
    "n=tuple(input('Enter items of tuple: ').split())\n",
    "print(n)\n",
    "m=input('Enter element you want to check: ')\n",
    "def exist(x,y):\n",
    "    if y in x:\n",
    "        print(y,'Exist in tuple')\n",
    "    else:\n",
    "        print(y,'Does not exist')\n",
    "exist(n,m)"
   ]
  },
  {
   "cell_type": "markdown",
   "id": "7d34291b",
   "metadata": {},
   "source": [
    "## Program to convert a list to a tuple"
   ]
  },
  {
   "cell_type": "code",
   "execution_count": 4,
   "id": "4bc36b92",
   "metadata": {},
   "outputs": [
    {
     "name": "stdout",
     "output_type": "stream",
     "text": [
      "Enter List elements: 3 8 20 63 45 5 9 \n",
      "['3', '8', '20', '63', '45', '5', '9']\n",
      "<class 'list'>\n",
      "('3', '8', '20', '63', '45', '5', '9')\n",
      "<class 'tuple'>\n"
     ]
    }
   ],
   "source": [
    "n=list(input('Enter List elements: ').split())\n",
    "def convert(x):\n",
    "    print(x)\n",
    "    print(type(x))\n",
    "    m=tuple(x)\n",
    "    print(m)\n",
    "    print(type(m))\n",
    "convert(n)"
   ]
  },
  {
   "cell_type": "markdown",
   "id": "f8c5ad41",
   "metadata": {},
   "source": [
    "## Program to remove an item from a tuple"
   ]
  },
  {
   "cell_type": "code",
   "execution_count": 5,
   "id": "e66fa5f0",
   "metadata": {},
   "outputs": [
    {
     "name": "stdout",
     "output_type": "stream",
     "text": [
      "Enter items in tuple: 7 6 23 41 8 3 23\n",
      "('7', '6', '23', '41', '8', '3', '23')\n",
      "Enter element you want to remove: 41\n",
      "('7', '6', '23', '8', '3', '23')\n"
     ]
    }
   ],
   "source": [
    "n=tuple(input('Enter items in tuple: ').split())\n",
    "print(n)\n",
    "m=input('Enter element you want to remove: ')\n",
    "def rem(x,o):\n",
    "    y=list(x)\n",
    "    y.remove(o)\n",
    "    x=tuple(y)\n",
    "    print(x)\n",
    "\n",
    "rem(n,m)"
   ]
  },
  {
   "cell_type": "markdown",
   "id": "1c71318b",
   "metadata": {},
   "source": [
    "## Program to slice a tuple"
   ]
  },
  {
   "cell_type": "code",
   "execution_count": 6,
   "id": "597e708f",
   "metadata": {},
   "outputs": [
    {
     "name": "stdout",
     "output_type": "stream",
     "text": [
      "Enter items in tuple: 52 3 6 14 28 9 \n",
      "('52', '3', '6', '14', '28', '9')\n",
      "('6', '14', '28')\n"
     ]
    }
   ],
   "source": [
    "n=tuple(input('Enter items in tuple: ').split())\n",
    "print(n)\n",
    "print(n[2:5])"
   ]
  },
  {
   "cell_type": "markdown",
   "id": "031facf2",
   "metadata": {},
   "source": [
    "## Program to find the index of an item of a tuple"
   ]
  },
  {
   "cell_type": "code",
   "execution_count": 1,
   "id": "a226150f",
   "metadata": {},
   "outputs": [
    {
     "name": "stdout",
     "output_type": "stream",
     "text": [
      "Enter items in tuple: Hi How Are You?\n",
      "('Hi', 'How', 'Are', 'You?')\n",
      "Enter element you want to index of: Are\n",
      "Index of Are is:  2\n"
     ]
    }
   ],
   "source": [
    "n=tuple(input('Enter items in tuple: ').split())\n",
    "print(n)\n",
    "m=input('Enter element you want to index of: ')\n",
    "def find(x,y):\n",
    "    if y in x:\n",
    "        a=x.index(y)\n",
    "        print('Index of',y,'is: ',a)\n",
    "    else:\n",
    "        print('No such element is present')\n",
    "find(n,m)"
   ]
  },
  {
   "cell_type": "markdown",
   "id": "8e25f2c2",
   "metadata": {},
   "source": [
    "## Program to print length of a tuple"
   ]
  },
  {
   "cell_type": "code",
   "execution_count": 2,
   "id": "5ae962f8",
   "metadata": {},
   "outputs": [
    {
     "name": "stdout",
     "output_type": "stream",
     "text": [
      "Enter items in tuple: 5 98 7 4 34 21\n",
      "('5', '98', '7', '4', '34', '21')\n",
      "Length of entered tuple is:  6\n"
     ]
    }
   ],
   "source": [
    "n=tuple(input('Enter items in tuple: ').split())\n",
    "print(n)\n",
    "print('Length of entered tuple is: ',len(n))"
   ]
  },
  {
   "cell_type": "markdown",
   "id": "9cb63005",
   "metadata": {},
   "source": [
    "## Program to convert a tuple to a dictionary"
   ]
  },
  {
   "cell_type": "code",
   "execution_count": 3,
   "id": "c6c57fc2",
   "metadata": {},
   "outputs": [
    {
     "name": "stdout",
     "output_type": "stream",
     "text": [
      "((1, 'ram'), (2, 'sita'), (3, 'karan'))\n",
      "{1: 'ram', 2: 'sita', 3: 'karan'}\n",
      "<class 'dict'>\n"
     ]
    }
   ],
   "source": [
    "n=((1,'ram'),(2,'sita'),(3,'karan'))\n",
    "print(n)\n",
    "d=dict()\n",
    "for key,value in n:\n",
    "    d[key]=value\n",
    "print(d)\n",
    "print(type(d))"
   ]
  }
 ],
 "metadata": {
  "kernelspec": {
   "display_name": "Python 3 (ipykernel)",
   "language": "python",
   "name": "python3"
  },
  "language_info": {
   "codemirror_mode": {
    "name": "ipython",
    "version": 3
   },
   "file_extension": ".py",
   "mimetype": "text/x-python",
   "name": "python",
   "nbconvert_exporter": "python",
   "pygments_lexer": "ipython3",
   "version": "3.9.12"
  }
 },
 "nbformat": 4,
 "nbformat_minor": 5
}
